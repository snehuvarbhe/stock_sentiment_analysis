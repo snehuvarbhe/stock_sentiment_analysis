{
 "cells": [
  {
   "cell_type": "code",
   "execution_count": 175,
   "metadata": {},
   "outputs": [
    {
     "name": "stdout",
     "output_type": "stream",
     "text": [
      "Accuracy: 0.8544973544973545\n",
      "Classification Report:\n",
      "               precision    recall  f1-score   support\n",
      "\n",
      "           0       0.96      0.73      0.83       186\n",
      "           1       0.79      0.97      0.87       192\n",
      "\n",
      "    accuracy                           0.85       378\n",
      "   macro avg       0.88      0.85      0.85       378\n",
      "weighted avg       0.88      0.85      0.85       378\n",
      "\n",
      "Confusion Matrix:\n",
      " [[136  50]\n",
      " [  5 187]]\n"
     ]
    }
   ],
   "source": [
    "import pandas as pd\n",
    "import numpy as np\n",
    "import re\n",
    "from sklearn.model_selection import train_test_split\n",
    "from sklearn.feature_extraction.text import TfidfVectorizer,CountVectorizer\n",
    "from sklearn.ensemble import RandomForestClassifier\n",
    "from sklearn.metrics import accuracy_score, classification_report, confusion_matrix\n",
    "\n",
    "def preprocess_text(text):\n",
    "    \"\"\"Cleans and preprocesses text by removing special characters and converting to lowercase.\"\"\"\n",
    "    text = text.lower()\n",
    "    text = re.sub(r'[^a-zA-Z]', ' ', text)\n",
    "    words = text.split()\n",
    "    return \" \".join(words)\n",
    "\n",
    "def load_and_preprocess_data(file_path):\n",
    "    \"\"\"Loads the dataset, preprocesses the text, and returns train-test splits.\"\"\"\n",
    "    df = pd.read_csv(file_path, encoding=\"ISO-8859-1\")\n",
    "    \n",
    "    # Combine all headline columns into one\n",
    "    df[\"Combined_Headlines\"] = df.iloc[:, 2:].astype(str).agg(\" \".join, axis=1)\n",
    "    \n",
    "    # Apply text preprocessing\n",
    "    df[\"Processed_Text\"] = df[\"Combined_Headlines\"].apply(preprocess_text)\n",
    "    \n",
    "    # Split dataset into training and testing based on date\n",
    "    df_train = df[df[\"Date\"] < \"20150101\"]\n",
    "    df_test = df[df[\"Date\"] >= \"20141231\"]\n",
    "    \n",
    "    X_train, y_train = df_train[\"Processed_Text\"], df_train[\"Label\"]\n",
    "    X_test, y_test = df_test[\"Processed_Text\"], df_test[\"Label\"]\n",
    "    \n",
    "    return X_train, X_test, y_train, y_test\n",
    "\n",
    "def train_and_evaluate(X_train, X_test, y_train, y_test):\n",
    "    \"\"\"Trains a RandomForest model and evaluates its performance.\"\"\"\n",
    "    vectorizer = CountVectorizer(ngram_range=(2,2))\n",
    "    X_train_tfidf = vectorizer.fit_transform(X_train)\n",
    "    X_test_tfidf = vectorizer.transform(X_test)\n",
    "    \n",
    "    clf = RandomForestClassifier(n_estimators=200,criterion='entropy')\n",
    "    clf.fit(X_train_tfidf, y_train)\n",
    "    \n",
    "    y_pred = clf.predict(X_test_tfidf)\n",
    "    \n",
    "    print(\"Accuracy:\", accuracy_score(y_test, y_pred))\n",
    "    print(\"Classification Report:\\n\", classification_report(y_test, y_pred))\n",
    "    print(\"Confusion Matrix:\\n\", confusion_matrix(y_test, y_pred))\n",
    "    \n",
    "if __name__ == \"__main__\":\n",
    "    file_path = r'E:\\stock_sentiment_analysis\\Data.csv'  # Change this if your dataset has a different name\n",
    "    X_train, X_test, y_train, y_test = load_and_preprocess_data(file_path)\n",
    "    train_and_evaluate(X_train, X_test, y_train, y_test)\n"
   ]
  }
 ],
 "metadata": {
  "kernelspec": {
   "display_name": "Python 3",
   "language": "python",
   "name": "python3"
  },
  "language_info": {
   "codemirror_mode": {
    "name": "ipython",
    "version": 3
   },
   "file_extension": ".py",
   "mimetype": "text/x-python",
   "name": "python",
   "nbconvert_exporter": "python",
   "pygments_lexer": "ipython3",
   "version": "3.12.1"
  }
 },
 "nbformat": 4,
 "nbformat_minor": 2
}
